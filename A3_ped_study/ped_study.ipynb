{
 "cells": [
  {
   "cell_type": "code",
   "execution_count": 195,
   "metadata": {},
   "outputs": [],
   "source": [
    "import numpy as np\n",
    "import pandas as pd\n",
    "np.set_printoptions(suppress=True, precision=4, linewidth=150)\n",
    "pd.options.display.float_format = '{:,.4f}'.format\n",
    "pd.options.display.max_colwidth = 100\n",
    "\n",
    "import duckdb\n",
    "import openpyxl as op\n",
    "\n",
    "from sklearn import linear_model\n",
    "from sklearn.metrics import mean_squared_error, r2_score\n",
    "\n",
    "import matplotlib as mpl\n",
    "import matplotlib.pyplot as plt\n",
    "plt.style.use('seaborn-v0_8-deep')\n",
    "\n",
    "import os"
   ]
  },
  {
   "cell_type": "code",
   "execution_count": 196,
   "metadata": {},
   "outputs": [],
   "source": [
    "# DB connection\n",
    "db_file = r'd:\\duckdb\\retail_sales.duckdb'\n",
    "conx = duckdb.connect(database=db_file, read_only=True)\n",
    "\n",
    "# Inputs\n",
    "chain_name = 'chain_name'\n",
    "sku_code = 'sku_code'\n",
    "\n",
    "week_start = '2024-04-01'\n",
    "weeks_num = 8\n",
    "bin_rng = 5"
   ]
  },
  {
   "cell_type": "code",
   "execution_count": 197,
   "metadata": {},
   "outputs": [],
   "source": [
    "# SKU name\n",
    "sku_name = conx.execute('select global_sku_name from base_sku where global_sku_code = ?', [sku_code]).fetchone()[0]\n",
    "weeks_range = [d.date() for d in pd.date_range(start=week_start, periods=weeks_num, freq='W-MON').to_list()]"
   ]
  },
  {
   "cell_type": "code",
   "execution_count": 198,
   "metadata": {},
   "outputs": [],
   "source": [
    "# SQL queries\n",
    "with (open('queries\\\\pos_list.sql', encoding='utf-8') as fn1, open('queries\\\\sales_data.sql', encoding='utf-8') as fn2):\n",
    "    sql_pos_list = fn1.read()\n",
    "    sql_sales_data = fn2.read()"
   ]
  },
  {
   "cell_type": "code",
   "execution_count": 199,
   "metadata": {},
   "outputs": [],
   "source": [
    "# Limit PoS in the sample to whose where sales were present in 25% of weeks in the period under consideration\n",
    "pos_list = conx.execute(sql_pos_list, [chain_name, sku_code, weeks_range[0], weeks_range[-1]]).fetch_df()\n",
    "weeks_limit = np.floor(0.25*len(weeks_range)).astype(np.int64)\n",
    "pos_list.loc[pos_list['wks'] > weeks_limit, 'filter'] = 1\n",
    "pos_list.loc[pos_list['wks'] <= weeks_limit, 'filter'] = 0\n",
    "\n",
    "pos_cleaned = pos_list[pos_list['filter'] == 1].loc[:, 'global_pos_code'].tolist()\n",
    "\n",
    "sales_data = conx.execute(sql_sales_data, [chain_name, sku_code, weeks_range[0], weeks_range[-1]]).fetch_df()\n",
    "sales_data['price_bin_range'] = sales_data.apply(lambda x: str(int(x['price_bin'])) + '-' + str(int(x['price_bin']) + bin_rng), axis=1)\n",
    "sales_data['price_kg'] = sales_data['price_kg'].round(2)\n",
    "sales_data.loc[sales_data['global_pos_code'].isin(pos_cleaned), 'filter'] = 1\n",
    "sales_data.loc[~sales_data['global_pos_code'].isin(pos_cleaned), 'filter'] = 0"
   ]
  },
  {
   "cell_type": "code",
   "execution_count": 200,
   "metadata": {},
   "outputs": [],
   "source": [
    "conx.close()"
   ]
  },
  {
   "cell_type": "code",
   "execution_count": 201,
   "metadata": {},
   "outputs": [],
   "source": [
    "# Aggregate sales across weeks and price bins\n",
    "sales_data_agg_1 = sales_data.loc[sales_data['filter'] == 1, sales_data.columns[0:-1]]\n",
    "sales_data_agg_1 = (sales_data_agg_1\n",
    "                      .groupby(['wk_num', 'week_start_date', 'price_kg', 'price_bin', 'price_bin_range'], as_index=False)\n",
    "                      .agg(\n",
    "                          turnover=pd.NamedAgg(column='kg', aggfunc='mean'),\n",
    "                          kg=pd.NamedAgg(column='kg', aggfunc='sum'),\n",
    "                          akb=pd.NamedAgg(column='global_pos_code', aggfunc='count')\n",
    "                        )\n",
    "                  )\n",
    "sales_data_agg_1['price_kg'] = sales_data_agg_1['price_kg'].round(2)\n",
    "\n",
    "# Aggregate sales across price bins\n",
    "sales_data_agg_2 = (sales_data_agg_1\n",
    "              .groupby(['price_bin', 'price_bin_range'], as_index=False)\n",
    "              .agg(\n",
    "                  kg=pd.NamedAgg(column='kg', aggfunc='sum'), \n",
    "                  akb=pd.NamedAgg(column='akb', aggfunc='sum')\n",
    "                )\n",
    "            )\n",
    "\n",
    "# Limit price levels to whose which cover 1% of PoS/week combinations\n",
    "pos_limit = np.round(0.01*len(pos_list)*len(weeks_range)).astype(np.int64)\n",
    "sales_data_agg_2['turnover'] = sales_data_agg_2['kg'] / sales_data_agg_2['akb']\n",
    "sales_data_agg_2['turnover'] = sales_data_agg_2['turnover'].round(4)\n",
    "sales_data_agg_2.loc[sales_data_agg_2['akb'] >= pos_limit, 'filter'] = 1\n",
    "sales_data_agg_2.loc[sales_data_agg_2['akb'] < pos_limit, 'filter'] = 0\n",
    "\n",
    "price_data = sales_data_agg_2.loc[sales_data_agg_2['filter'] == 1, sales_data_agg_2.columns[0:-1]]\n",
    "price_data['price_bin'] = price_data['price_bin'] + 0.5*bin_rng"
   ]
  },
  {
   "cell_type": "code",
   "execution_count": 202,
   "metadata": {},
   "outputs": [],
   "source": [
    "# Estimate PED\n",
    "X = np.log(price_data[['price_bin']])\n",
    "y = np.log(price_data['turnover'])\n",
    "w = price_data['akb']\n",
    "\n",
    "ols_reg = linear_model.LinearRegression()\n",
    "ols_reg.fit(X, y, sample_weight=w)\n",
    "y_pred = ols_reg.predict(X)\n",
    "\n",
    "res_dict = {\n",
    "        'SKU': sku_name + ' (' + sku_code + ')',\n",
    "        'Сеть': chain_name,\n",
    "        'Даты': f'{weeks_range[0].strftime(\"%Y.%m.%d\")}-{weeks_range[-1].strftime(\"%Y.%m.%d\")}',\n",
    "        'Недель': f'{len(weeks_range):,d}',\n",
    "        'Включенные PoS': f'{len(sales_data.loc[sales_data[\"filter\"] == 1, \"global_pos_code\"].unique()):,d} / {len(pos_list):,d}',\n",
    "        'Включенные PoS/Wks': f'{len(sales_data.loc[sales_data[\"filter\"] == 1, :]):,d} / {len(pos_cleaned)*len(weeks_range):,d} / {len(pos_list)*len(weeks_range):,d}',\n",
    "        'Учтенные кг': f'{price_data[\"kg\"].sum():,.0f} / {pos_list[\"kg\"].sum():,.0f}',\n",
    "        'ln(Q)=': f'{ols_reg.coef_[0]:+.4f}*ln(x) {ols_reg.intercept_:+.4f}',\n",
    "        'Q=': f'exp({ols_reg.coef_[0]:+.4f}*ln(x) {ols_reg.intercept_:+.4f})',\n",
    "        'PED': np.round(ols_reg.coef_[0], 4),\n",
    "        'alpha': np.round(ols_reg.intercept_, 4),\n",
    "        'R2 (unlogged)': np.round(r2_score(np.exp(y), np.exp(y_pred), sample_weight=w), 4),\n",
    "        'RMSE (unlogged)': np.round(np.sqrt(mean_squared_error(np.exp(y), np.exp(y_pred), sample_weight=w)), 4)\n",
    "        }\n",
    "\n",
    "price_data = pd.concat([price_data, pd.Series(np.round(np.exp(y_pred), 4), index=price_data.index, name='turnover_pred')], axis=1)"
   ]
  },
  {
   "cell_type": "code",
   "execution_count": 203,
   "metadata": {},
   "outputs": [],
   "source": [
    "# Save results to excel workbook\n",
    "xls_name = f'reports\\\\{res_dict[\"SKU\"] + \" \" + res_dict[\"Сеть\"] + \" \" + res_dict[\"Даты\"]}.xlsx'\n",
    "writer = pd.ExcelWriter(xls_name)\n",
    "\n",
    "pos_list.to_excel(writer, sheet_name='pos_list', index=False)\n",
    "sales_data.to_excel(writer, sheet_name='sales_data', index=False)\n",
    "sales_data_agg_1.to_excel(writer, sheet_name='sales_data_agg_1', index=False)\n",
    "sales_data_agg_2.to_excel(writer, sheet_name='sales_data_agg_2', index=False)\n",
    "price_data.to_excel(writer, sheet_name='price_data', index=False)\n",
    "pd.Series(res_dict, name='Показатель').to_excel(writer, sheet_name='results', index=True)\n",
    "\n",
    "writer.close()"
   ]
  },
  {
   "cell_type": "code",
   "execution_count": 204,
   "metadata": {},
   "outputs": [],
   "source": [
    "# Prepare a graph in an unlogged space\n",
    "fig, ax = plt.subplots(figsize=(12, 7), dpi=72, layout='constrained')\n",
    "\n",
    "ax.scatter(price_data['price_bin'], price_data['turnover'])\n",
    "ax.plot(price_data['price_bin'], price_data['turnover_pred'], color='#595959', linestyle='dashed')\n",
    "\n",
    "ax.annotate(f'ln(Q) = {res_dict[\"PED\"]:+.2f}*ln(x){res_dict[\"alpha\"]:+.2f}\\nR2 = {res_dict[\"R2 (unlogged)\"]:.2f}',\n",
    "    xy=(ax.get_xlim()[0], ax.get_ylim()[0]), \n",
    "    xytext=(0.80, 0.91),\n",
    "    textcoords='axes fraction',\n",
    "    fontsize=10,\n",
    "    horizontalalignment='left',\n",
    "    linespacing=1.5\n",
    ")\n",
    "ax.set_title(f'{res_dict[\"SKU\"] + \" / \" + res_dict[\"Сеть\"] + \" / \" + res_dict[\"Даты\"]}')\n",
    "ax.set_xlabel('Цена, руб/кг')\n",
    "ax.set_ylabel('Оборачиваемость в активную неделю')\n",
    "\n",
    "plt.savefig('output.png', bbox_inches='tight', pad_inches=0.15)\n",
    "plt.close()"
   ]
  },
  {
   "cell_type": "code",
   "execution_count": 205,
   "metadata": {},
   "outputs": [],
   "source": [
    "# Excel formatting\n",
    "wb = op.load_workbook(filename=xls_name)\n",
    "\n",
    "col_widths = {\n",
    "    'pos_list': [16, 16, 10, 20, 10, 10, 10],\n",
    "    'sales_data': [10, 20, 16, 16, 10, 10, 10, 10, 16, 10],\n",
    "    'sales_data_agg_1': [10, 20, 10, 10, 16, 10, 10, 10],\n",
    "    'sales_data_agg_2': [10, 16, 10, 10, 10, 10],\n",
    "    'price_data': [10, 16, 10, 10, 10, 16],\n",
    "    'results': [20, 80]\n",
    "}\n",
    "\n",
    "side = op.styles.Side(border_style=None)\n",
    "no_border = op.styles.borders.Border(left=side, right=side, top=side, bottom=side)\n",
    "font_txt = op.styles.Font(name='Arial', size=10)\n",
    "font_head = op.styles.Font(name='Arial', size=10, bold=True)\n",
    "\n",
    "for ws in wb:\n",
    "    for col in ws.iter_cols():\n",
    "        ws.column_dimensions[op.utils.get_column_letter(col[0].column)].width = col_widths[ws.title][col[0].column - 1]\n",
    "        for cell in col:\n",
    "            cell.border = no_border\n",
    "            if cell.row == 1:\n",
    "                cell.font = font_head\n",
    "            else:\n",
    "                cell.font = font_txt\n",
    "\n",
    "wb.active = wb['results']\n",
    "ws.add_image(op.drawing.image.Image('output.png'), 'D2')\n",
    "\n",
    "wb.save(filename=xls_name)\n",
    "os.remove('output.png')"
   ]
  }
 ],
 "metadata": {
  "kernelspec": {
   "display_name": "base",
   "language": "python",
   "name": "python3"
  },
  "language_info": {
   "codemirror_mode": {
    "name": "ipython",
    "version": 3
   },
   "file_extension": ".py",
   "mimetype": "text/x-python",
   "name": "python",
   "nbconvert_exporter": "python",
   "pygments_lexer": "ipython3",
   "version": "3.11.7"
  },
  "orig_nbformat": 4
 },
 "nbformat": 4,
 "nbformat_minor": 2
}
